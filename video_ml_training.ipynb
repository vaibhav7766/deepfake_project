{
 "cells": [
  {
   "cell_type": "code",
   "execution_count": 1,
   "metadata": {},
   "outputs": [],
   "source": [
    "import os\n",
    "import cv2\n",
    "import numpy as np\n",
    "import pandas as pd\n",
    "from tqdm import tqdm"
   ]
  },
  {
   "cell_type": "code",
   "execution_count": 2,
   "metadata": {},
   "outputs": [],
   "source": [
    "def extract_features(video_path):\n",
    "    cap = cv2.VideoCapture(video_path)\n",
    "    if not cap.isOpened():\n",
    "        print(f\"Error opening video file: {video_path}\")\n",
    "        return None\n",
    "\n",
    "    # Initialize lists to hold frame-by-frame features\n",
    "    mean_intensities = []\n",
    "    std_intensities = []\n",
    "    max_intensities = []\n",
    "    min_intensities = []\n",
    "    frame_diffs = []\n",
    "    motion_intensities = []\n",
    "\n",
    "    ret, prev_frame = cap.read()\n",
    "    if prev_frame is not None:\n",
    "        prev_frame_gray = cv2.cvtColor(prev_frame, cv2.COLOR_BGR2GRAY)\n",
    "\n",
    "    while cap.isOpened():\n",
    "        ret, frame = cap.read()\n",
    "        if not ret:\n",
    "            break\n",
    "\n",
    "        # Convert current frame to grayscale\n",
    "        gray_frame = cv2.cvtColor(frame, cv2.COLOR_BGR2GRAY)\n",
    "\n",
    "        # Pixel Intensity-based Features\n",
    "        mean_intensities.append(np.mean(gray_frame))\n",
    "        std_intensities.append(np.std(gray_frame))\n",
    "        max_intensities.append(np.max(gray_frame))\n",
    "        min_intensities.append(np.min(gray_frame))\n",
    "\n",
    "        # Motion-based Features\n",
    "        if prev_frame is not None:\n",
    "            # Compute difference between current and previous frame\n",
    "            frame_diff = cv2.absdiff(prev_frame_gray, gray_frame)\n",
    "            frame_diffs.append(np.mean(frame_diff))  # Mean of absolute differences\n",
    "\n",
    "            # Compute motion intensity using Optical Flow\n",
    "            flow = cv2.calcOpticalFlowFarneback(\n",
    "                prev_frame_gray, gray_frame, None, 0.5, 3, 15, 3, 5, 1.2, 0\n",
    "            )\n",
    "            motion_magnitude = np.sqrt(flow[..., 0] ** 2 + flow[..., 1] ** 2)\n",
    "            motion_intensities.append(\n",
    "                np.mean(motion_magnitude)\n",
    "            )  # Average motion magnitude\n",
    "\n",
    "        # Update previous frame\n",
    "        prev_frame_gray = gray_frame\n",
    "\n",
    "    cap.release()\n",
    "\n",
    "    # Compute statistics over the entire video\n",
    "    features = {\n",
    "        \"mean_intensity\": np.mean(mean_intensities),\n",
    "        \"std_intensity\": np.mean(std_intensities),\n",
    "        \"max_intensity\": np.mean(max_intensities),\n",
    "        \"min_intensity\": np.mean(min_intensities),\n",
    "        \"mean_frame_diff\": np.mean(frame_diffs) if frame_diffs else 0,\n",
    "        \"motion_intensity\": np.mean(motion_intensities) if motion_intensities else 0,\n",
    "    }\n",
    "\n",
    "    return features"
   ]
  },
  {
   "cell_type": "code",
   "execution_count": 3,
   "metadata": {},
   "outputs": [],
   "source": [
    "def process_videos(directory, label):\n",
    "    video_features = []\n",
    "    video_files = [\n",
    "        f for f in os.listdir(directory) if f.endswith((\".mp4\", \".avi\", \".mov\"))\n",
    "    ]\n",
    "\n",
    "    for video_file in tqdm(video_files, desc=f\"Processing {label} videos\"):\n",
    "        video_path = os.path.join(directory, video_file)\n",
    "        features = extract_features(video_path)\n",
    "        if features:\n",
    "            features[\"label\"] = label\n",
    "            features[\"video_name\"] = video_file\n",
    "            video_features.append(features)\n",
    "\n",
    "    return video_features"
   ]
  },
  {
   "cell_type": "code",
   "execution_count": 4,
   "metadata": {},
   "outputs": [],
   "source": [
    "REAL_DIR = \"REAL\"\n",
    "FAKE_DIR = \"FAKE\""
   ]
  },
  {
   "cell_type": "code",
   "execution_count": 6,
   "metadata": {},
   "outputs": [
    {
     "name": "stderr",
     "output_type": "stream",
     "text": [
      "Processing REAL videos:   3%|▎         | 2/74 [06:10<3:42:19, 185.27s/it]\n"
     ]
    },
    {
     "ename": "KeyboardInterrupt",
     "evalue": "",
     "output_type": "error",
     "traceback": [
      "\u001b[1;31m---------------------------------------------------------------------------\u001b[0m",
      "\u001b[1;31mKeyboardInterrupt\u001b[0m                         Traceback (most recent call last)",
      "Cell \u001b[1;32mIn[6], line 1\u001b[0m\n\u001b[1;32m----> 1\u001b[0m real_features \u001b[38;5;241m=\u001b[39m \u001b[43mprocess_videos\u001b[49m\u001b[43m(\u001b[49m\u001b[43mREAL_DIR\u001b[49m\u001b[43m,\u001b[49m\u001b[43m \u001b[49m\u001b[38;5;124;43m\"\u001b[39;49m\u001b[38;5;124;43mREAL\u001b[39;49m\u001b[38;5;124;43m\"\u001b[39;49m\u001b[43m)\u001b[49m\n\u001b[0;32m      2\u001b[0m fake_features \u001b[38;5;241m=\u001b[39m process_videos(FAKE_DIR, \u001b[38;5;124m\"\u001b[39m\u001b[38;5;124mFAKE\u001b[39m\u001b[38;5;124m\"\u001b[39m)\n",
      "Cell \u001b[1;32mIn[3], line 9\u001b[0m, in \u001b[0;36mprocess_videos\u001b[1;34m(directory, label)\u001b[0m\n\u001b[0;32m      7\u001b[0m \u001b[38;5;28;01mfor\u001b[39;00m video_file \u001b[38;5;129;01min\u001b[39;00m tqdm(video_files, desc\u001b[38;5;241m=\u001b[39m\u001b[38;5;124mf\u001b[39m\u001b[38;5;124m\"\u001b[39m\u001b[38;5;124mProcessing \u001b[39m\u001b[38;5;132;01m{\u001b[39;00mlabel\u001b[38;5;132;01m}\u001b[39;00m\u001b[38;5;124m videos\u001b[39m\u001b[38;5;124m\"\u001b[39m):\n\u001b[0;32m      8\u001b[0m     video_path \u001b[38;5;241m=\u001b[39m os\u001b[38;5;241m.\u001b[39mpath\u001b[38;5;241m.\u001b[39mjoin(directory, video_file)\n\u001b[1;32m----> 9\u001b[0m     features \u001b[38;5;241m=\u001b[39m \u001b[43mextract_features\u001b[49m\u001b[43m(\u001b[49m\u001b[43mvideo_path\u001b[49m\u001b[43m)\u001b[49m\n\u001b[0;32m     10\u001b[0m     \u001b[38;5;28;01mif\u001b[39;00m features:\n\u001b[0;32m     11\u001b[0m         features[\u001b[38;5;124m\"\u001b[39m\u001b[38;5;124mlabel\u001b[39m\u001b[38;5;124m\"\u001b[39m] \u001b[38;5;241m=\u001b[39m label\n",
      "Cell \u001b[1;32mIn[2], line 40\u001b[0m, in \u001b[0;36mextract_features\u001b[1;34m(video_path)\u001b[0m\n\u001b[0;32m     37\u001b[0m frame_diffs\u001b[38;5;241m.\u001b[39mappend(np\u001b[38;5;241m.\u001b[39mmean(frame_diff))  \u001b[38;5;66;03m# Mean of absolute differences\u001b[39;00m\n\u001b[0;32m     39\u001b[0m \u001b[38;5;66;03m# Compute motion intensity using Optical Flow\u001b[39;00m\n\u001b[1;32m---> 40\u001b[0m flow \u001b[38;5;241m=\u001b[39m \u001b[43mcv2\u001b[49m\u001b[38;5;241;43m.\u001b[39;49m\u001b[43mcalcOpticalFlowFarneback\u001b[49m\u001b[43m(\u001b[49m\n\u001b[0;32m     41\u001b[0m \u001b[43m    \u001b[49m\u001b[43mprev_frame_gray\u001b[49m\u001b[43m,\u001b[49m\u001b[43m \u001b[49m\u001b[43mgray_frame\u001b[49m\u001b[43m,\u001b[49m\u001b[43m \u001b[49m\u001b[38;5;28;43;01mNone\u001b[39;49;00m\u001b[43m,\u001b[49m\u001b[43m \u001b[49m\u001b[38;5;241;43m0.5\u001b[39;49m\u001b[43m,\u001b[49m\u001b[43m \u001b[49m\u001b[38;5;241;43m3\u001b[39;49m\u001b[43m,\u001b[49m\u001b[43m \u001b[49m\u001b[38;5;241;43m15\u001b[39;49m\u001b[43m,\u001b[49m\u001b[43m \u001b[49m\u001b[38;5;241;43m3\u001b[39;49m\u001b[43m,\u001b[49m\u001b[43m \u001b[49m\u001b[38;5;241;43m5\u001b[39;49m\u001b[43m,\u001b[49m\u001b[43m \u001b[49m\u001b[38;5;241;43m1.2\u001b[39;49m\u001b[43m,\u001b[49m\u001b[43m \u001b[49m\u001b[38;5;241;43m0\u001b[39;49m\n\u001b[0;32m     42\u001b[0m \u001b[43m\u001b[49m\u001b[43m)\u001b[49m\n\u001b[0;32m     43\u001b[0m motion_magnitude \u001b[38;5;241m=\u001b[39m np\u001b[38;5;241m.\u001b[39msqrt(flow[\u001b[38;5;241m.\u001b[39m\u001b[38;5;241m.\u001b[39m\u001b[38;5;241m.\u001b[39m, \u001b[38;5;241m0\u001b[39m] \u001b[38;5;241m*\u001b[39m\u001b[38;5;241m*\u001b[39m \u001b[38;5;241m2\u001b[39m \u001b[38;5;241m+\u001b[39m flow[\u001b[38;5;241m.\u001b[39m\u001b[38;5;241m.\u001b[39m\u001b[38;5;241m.\u001b[39m, \u001b[38;5;241m1\u001b[39m] \u001b[38;5;241m*\u001b[39m\u001b[38;5;241m*\u001b[39m \u001b[38;5;241m2\u001b[39m)\n\u001b[0;32m     44\u001b[0m motion_intensities\u001b[38;5;241m.\u001b[39mappend(\n\u001b[0;32m     45\u001b[0m     np\u001b[38;5;241m.\u001b[39mmean(motion_magnitude)\n\u001b[0;32m     46\u001b[0m )  \u001b[38;5;66;03m# Average motion magnitude\u001b[39;00m\n",
      "\u001b[1;31mKeyboardInterrupt\u001b[0m: "
     ]
    }
   ],
   "source": [
    "real_features = process_videos(REAL_DIR, \"REAL\")\n",
    "fake_features = process_videos(FAKE_DIR, \"FAKE\")"
   ]
  },
  {
   "cell_type": "code",
   "execution_count": null,
   "metadata": {},
   "outputs": [],
   "source": [
    "all_features = real_features + fake_features"
   ]
  },
  {
   "cell_type": "code",
   "execution_count": null,
   "metadata": {},
   "outputs": [],
   "source": [
    "df = pd.DataFrame(all_features)"
   ]
  },
  {
   "cell_type": "code",
   "execution_count": null,
   "metadata": {},
   "outputs": [],
   "source": [
    "df.to_csv(\"video_features.csv\", index=False)\n",
    "print(\"Features saved to video_features.csv\")"
   ]
  }
 ],
 "metadata": {
  "kernelspec": {
   "display_name": "Python 3",
   "language": "python",
   "name": "python3"
  },
  "language_info": {
   "codemirror_mode": {
    "name": "ipython",
    "version": 3
   },
   "file_extension": ".py",
   "mimetype": "text/x-python",
   "name": "python",
   "nbconvert_exporter": "python",
   "pygments_lexer": "ipython3",
   "version": "3.12.2"
  }
 },
 "nbformat": 4,
 "nbformat_minor": 2
}
